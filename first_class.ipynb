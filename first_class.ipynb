{
 "cells": [
  {
   "cell_type": "code",
   "execution_count": 1,
   "metadata": {},
   "outputs": [
    {
     "name": "stdout",
     "output_type": "stream",
     "text": [
      "sys.version_info(major=3, minor=7, micro=3, releaselevel='final', serial=0)\n"
     ]
    }
   ],
   "source": [
    "import sys\n",
    "print(sys.version_info)"
   ]
  },
  {
   "cell_type": "code",
   "execution_count": 2,
   "metadata": {},
   "outputs": [
    {
     "data": {
      "text/plain": [
       "(3, 6)"
      ]
     },
     "execution_count": 2,
     "metadata": {},
     "output_type": "execute_result"
    }
   ],
   "source": [
    "# multiple return\n",
    "def f2(x,y):\n",
    "    return(x,y)\n",
    "f2(3,6)"
   ]
  },
  {
   "cell_type": "code",
   "execution_count": 3,
   "metadata": {},
   "outputs": [
    {
     "name": "stdout",
     "output_type": "stream",
     "text": [
      "Enter:8\n"
     ]
    },
    {
     "data": {
      "text/plain": [
       "21"
      ]
     },
     "execution_count": 3,
     "metadata": {},
     "output_type": "execute_result"
    }
   ],
   "source": [
    "# 費波納西數列\n",
    "a = int(input(\"Enter: \"))\n",
    "def fun1(a):\n",
    "    \n",
    "    if a == 1 or a==2:\n",
    "        return 1\n",
    "    else:\n",
    "        \n",
    "        return fun1(a-1)+fun1(a-2)\n",
    "fun1(a)"
   ]
  },
  {
   "cell_type": "code",
   "execution_count": 4,
   "metadata": {},
   "outputs": [
    {
     "name": "stdout",
     "output_type": "stream",
     "text": [
      "[[0, 0, 0], [0, 0, 0], [0, 0, 0]]\n",
      "[[0, 1, 0], [0, 1, 0], [0, 1, 0]]\n"
     ]
    }
   ],
   "source": [
    "list1 = [[0]*3]*3\n",
    "print(list1)\n",
    "\n",
    "list1[1][1]=1\n",
    "print(list1)"
   ]
  },
  {
   "cell_type": "code",
   "execution_count": 16,
   "metadata": {},
   "outputs": [
    {
     "name": "stdout",
     "output_type": "stream",
     "text": [
      "['jshbc', 'dmwidn', 'dwo', 'awq']\n"
     ]
    }
   ],
   "source": [
    "# split()切割完的結果是list\n",
    "s = 'jshbc/dmwidn/dwo/awq'\n",
    "s_s = s.split(\"/\")\n",
    "print(s_s)"
   ]
  },
  {
   "cell_type": "code",
   "execution_count": 6,
   "metadata": {},
   "outputs": [
    {
     "data": {
      "text/plain": [
       "[0, 0, 0]"
      ]
     },
     "execution_count": 6,
     "metadata": {},
     "output_type": "execute_result"
    }
   ],
   "source": [
    "[0 for x in range(3)]"
   ]
  },
  {
   "cell_type": "code",
   "execution_count": 8,
   "metadata": {},
   "outputs": [
    {
     "name": "stdout",
     "output_type": "stream",
     "text": [
      "[[0, 0, 0], [0, 0, 0], [0, 0, 0]]\n"
     ]
    }
   ],
   "source": [
    "m = [[0 for x in range(3)] for x in range(3)]\n",
    "print(m)"
   ]
  },
  {
   "cell_type": "code",
   "execution_count": 10,
   "metadata": {},
   "outputs": [
    {
     "name": "stdout",
     "output_type": "stream",
     "text": [
      "[[0, 0, 0], [0, 1, 0], [0, 0, 0]]\n"
     ]
    }
   ],
   "source": [
    "m[1][1] = 1\n",
    "print(m)"
   ]
  },
  {
   "cell_type": "markdown",
   "metadata": {},
   "source": [
    "# Second Class\n"
   ]
  },
  {
   "cell_type": "code",
   "execution_count": 2,
   "metadata": {},
   "outputs": [
    {
     "name": "stdout",
     "output_type": "stream",
     "text": [
      "180\n",
      "80\n",
      "24.691358024691358\n"
     ]
    }
   ],
   "source": [
    "class Human:\n",
    "    def __init__(self, h, w):\n",
    "#         初始化，定義weight, height\n",
    "        self.height = h\n",
    "        self.weight = w\n",
    "    def calculate_BMI(self):\n",
    "#         self:物件本身\n",
    "        return self.weight / ((self.height/100.0)**2)\n",
    "    \n",
    "a = Human(180,80)\n",
    "print(a.height)\n",
    "print(a.weight)\n",
    "print(a.calculate_BMI())"
   ]
  },
  {
   "cell_type": "code",
   "execution_count": 5,
   "metadata": {},
   "outputs": [
    {
     "name": "stdout",
     "output_type": "stream",
     "text": [
      "24.691358024691358\n",
      "bust=83, waist=64, hip=84\n"
     ]
    }
   ],
   "source": [
    "# inheritance\n",
    "class Woman(Human):\n",
    "#     繼承Human\n",
    "    def __init__(self, h, w, bust=0, waist=0, hip=0):\n",
    "#       呼叫在Human(父類別)中的__init__\n",
    "        super().__init__(h,w)\n",
    "        self.bust = bust\n",
    "        self.waist = waist\n",
    "        self.hip = hip\n",
    "    def printBWH(self):\n",
    "        print(\"bust={}, waist={}, hip={}\".format(self.bust, self.waist, self.hip))\n",
    "\n",
    "\n",
    "w = Woman(165,54,83,64,84)\n",
    "print(a.calculate_BMI())\n",
    "w.printBWH()\n"
   ]
  },
  {
   "cell_type": "code",
   "execution_count": null,
   "metadata": {},
   "outputs": [],
   "source": [
    "# string format:\n",
    "#  1:'%type'%...  2:'{strvar}':.format(strvar=...) 3.f'{strvar}:str'"
   ]
  },
  {
   "cell_type": "code",
   "execution_count": 31,
   "metadata": {},
   "outputs": [
    {
     "name": "stdout",
     "output_type": "stream",
     "text": [
      "Name:  Tom\n",
      "Age:  15\n",
      "Gender:  M\n",
      "Interests:  jogging\n",
      "Tom is 15 years old. They like jogging.\n",
      "Hi! I'm Tom.\n",
      "---------------------------\n",
      "Name:  Tina\n",
      "Age:  30\n",
      "Gender:  F\n",
      "Interests:  singing\n",
      "Tina is 30 years old. They like singing.\n",
      "Hello. My name is Tina, and I teach English.\n"
     ]
    }
   ],
   "source": [
    "class Person():\n",
    "    def __init__(self, name, age, gender, interests):\n",
    "        self.name = name\n",
    "        self.age = age\n",
    "        self.gender = gender\n",
    "        self.interests = interests\n",
    "\n",
    "    def out(self):\n",
    "        print(\"Name: \", self.name)\n",
    "        print(\"Age: \", self.age)\n",
    "        print(\"Gender: \", self.gender)\n",
    "        print(\"Interests: \", self.interests)\n",
    "    \n",
    "    def bio(self):\n",
    "        print(\"{} is {} years old. They like {}.\".format(self.name, self.age, self.interests))\n",
    "        \n",
    "    def greeting(self):\n",
    "        print(\"Hi! I'm {}.\".format(self.name))\n",
    "class Teacher(Person):\n",
    "    def __init__(self, name, age, gender, interests, subject):\n",
    "        super().__init__(name, age, gender, interests)\n",
    "        self.subject = subject\n",
    "    def out(self):\n",
    "        super().out()\n",
    "        \n",
    "    def bio(self):\n",
    "        super().bio()\n",
    "        \n",
    "    def greeting(self):\n",
    "#         {n} n:後面放入的順序\n",
    "        print(\"Hello. My name is {0}, and I teach {1}.\".format(self.name, self.subject))\n",
    "        \n",
    "p = Person(\"Tom\", 15, \"M\", \"jogging\")\n",
    "t = Teacher(\"Tina\", 30, \"F\", \"singing\", \"English\")\n",
    "p.out()\n",
    "p.bio()\n",
    "p.greeting()\n",
    "print('---------------------------')\n",
    "t.out()\n",
    "t.bio()\n",
    "t.greeting()"
   ]
  },
  {
   "cell_type": "code",
   "execution_count": 30,
   "metadata": {},
   "outputs": [
    {
     "name": "stdout",
     "output_type": "stream",
     "text": [
      "['Chris 60 70 80', 'Jay 100 90 95', 'Coco 85 80 95', 'Amy 90 95 90', 'Quincy 80 100 90', 'Hsiu 100 60 80']\n",
      "Chris : 70.0\n",
      "Jay : 95.0\n",
      "Coco : 86.66666666666667\n",
      "Amy : 91.66666666666667\n",
      "Quincy : 90.0\n",
      "Hsiu : 80.0\n"
     ]
    }
   ],
   "source": [
    "# readfile\n",
    "with open('grades.txt') as f:\n",
    "    content = f.readlines()\n",
    "content = [x.strip() for x in content]\n",
    "print(content)\n",
    "l = []\n",
    "for i in content:\n",
    "   l.append(list(i.split(' ')))\n",
    "# print(l)\n",
    "grade = {}\n",
    "for n in l:\n",
    "    total =  sum(list(map(int, n[1:])))\n",
    "   \n",
    "    print(n[0], \":\", sum(list(map(int, n[1:]))/3)\n",
    "\n"
   ]
  },
  {
   "cell_type": "code",
   "execution_count": 34,
   "metadata": {},
   "outputs": [
    {
     "name": "stdout",
     "output_type": "stream",
     "text": [
      "{'Chris': [210, 70.0], 'Jay': [285, 95.0], 'Coco': [260, 86.66666666666667], 'Amy': [275, 91.66666666666667], 'Quincy': [270, 90.0], 'Hsiu': [240, 80.0]}\n"
     ]
    }
   ],
   "source": [
    "# readfile\n",
    "with open('grades.txt') as f:\n",
    "    content = f.readlines()\n",
    "content = [x.strip() for x in content]\n",
    "# print(content)\n",
    "l = []\n",
    "for i in content:\n",
    "   l.append(list(i.split(' ')))\n",
    "# print(l)\n",
    "grade = {}\n",
    "for n in l:\n",
    "    total =  sum(list(map(int, n[1:])))\n",
    "    grade[n[0]] = [total]\n",
    "    grade[n[0]].append(total/3)\n",
    "print(grade)\n"
   ]
  },
  {
   "cell_type": "code",
   "execution_count": 2,
   "metadata": {},
   "outputs": [
    {
     "name": "stdout",
     "output_type": "stream",
     "text": [
      "e\n"
     ]
    }
   ],
   "source": [
    "a = 1\n",
    "b = '1'\n",
    "if a == b:\n",
    "    print('y')\n",
    "else:\n",
    "    print('e')"
   ]
  },
  {
   "cell_type": "code",
   "execution_count": null,
   "metadata": {},
   "outputs": [],
   "source": [
    "class Grades:\n",
    "    def __init__(self, content = '', splcontent = [], dsub = {}, totalaveg = []):\n",
    "        self.content = content\n",
    "        self.splcontent = splcontent\n",
    "        self.dsub = dsub\n",
    "        self.totalaveg = totalaveg\n",
    "    def readFile(self):\n",
    "        with open('grades.txt') as f:\n",
    "            self.content = f.readlines()\n",
    "            self.content = [x.strip() for x in self.content]\n",
    "        self.splcontent = []\n",
    "        for i in self.content:\n",
    "            self.splcontent.append(list(i.split(' ')))\n",
    "        self.dsub = {}\n",
    "        for score in self.splcontent:\n",
    "            self.dsub[score[0]] = list(map(int , score[1:]))\n",
    "        # print(self.dsub)\n",
    "    def calculate(self):\n",
    "        self.totalaveg = []\n",
    "        for name in self.dsub.keys():\n",
    "            self.totalaveg.append([name, sum(self.dsub[name]), round(sum(self.dsub[name])/len(self.dsub[name]),2)])\n",
    "        return self.totalaveg\n",
    "    def prtGrade(self):\n",
    "        print('名字\\t總分\\t平均')\n",
    "        for s in self.totalaveg:\n",
    "            print(f'{s[0]}\\t{s[1]}\\t{s[2]}')\n",
    "    def rank(self):\n",
    "        self.totalaveg.sort(key = lambda x: x[1] , reverse = True)\n",
    "        # print(self.totalaveg)\n",
    "        print('名次\\t名字\\t總分\\t平均\\t')\n",
    "        for i in range(len(self.totalaveg)):\n",
    "            print(f'{i+1}.\\t{self.totalaveg[i][0]}\\t{self.totalaveg[i][1]}\\t{self.totalaveg[i][2]}')\n",
    "            \n",
    "    def prtsub(self):\n",
    "        print('科目\\t總分\\t平均')\n",
    "        sub = [len(v) for v in self.dsub.values()][0]\n",
    "        for i in range(sub):\n",
    "            sum = 0\n",
    "            for j in self.dsub.values():\n",
    "                sum += j[i]\n",
    "            print(f'{i+1}\\t{sum}\\t{round(sum/len(self.totalaveg),2)}')\n",
    "    def search(self):\n",
    "        name = input(\"Please enter student's name: \")\n",
    "        name = name[0].upper() + name[1:]\n",
    "        print(f'{name}:{self.dsub[name]} 總分:{sum(self.dsub[name])} 平均:{round(sum(self.dsub[name])/len(self.dsub[name]),2)}')\n",
    "    def addscore(self):\n",
    "        stu = input(\"Enter student's name: \")\n",
    "        stu = stu[0].upper() + stu[1:]\n",
    "        score = int(input(\"Enter student's score:\"))\n",
    "        self.dsub[stu].append(score)\n",
    "        print(f'{stu}:{self.dsub[stu]}\\t總分:{sum(self.dsub[stu])}\\t平均:{sum(self.dsub[stu])/len(self.dsub[stu])}')\n",
    "\n",
    "# print('1. Print students\\' grade\\n2. Print subject scores\\n3. Rank students\\n4. Search for name\\n5. Add score\\n6. Exit')\n",
    "g = Grades()\n",
    "g.readFile()\n",
    "while True:\n",
    "    print('1. Print students\\' grade\\n2. Print subject scores\\n3. Rank students\\n4. Search for name\\n5. Add score\\n6. Exit')\n",
    "    number = input('Please choose one and enter its number: ')\n",
    "    try:\n",
    "        if number == '1':\n",
    "            g.calculate()\n",
    "            g.prtGrade()\n",
    "        elif number =='2':\n",
    "            g.calculate()\n",
    "            g.prtsub()\n",
    "        elif number == '3':\n",
    "            g.calculate()\n",
    "            g.rank()\n",
    "        elif number == '4':\n",
    "            g.search()\n",
    "        elif number == '5':\n",
    "            g.addscore()\n",
    "        elif number == '6':\n",
    "            break\n",
    "    except:\n",
    "        print('Format error!')\n",
    "\n",
    "# g.calculate()\n",
    "# g.prtGrade()\n",
    "# g.rank()\n",
    "# g.prtsub()\n",
    "# g.addscore()"
   ]
  },
  {
   "cell_type": "markdown",
   "metadata": {},
   "source": [
    "# Third class\n"
   ]
  },
  {
   "cell_type": "code",
   "execution_count": null,
   "metadata": {},
   "outputs": [],
   "source": []
  }
 ],
 "metadata": {
  "kernelspec": {
   "display_name": "Python 3",
   "language": "python",
   "name": "python3"
  },
  "language_info": {
   "codemirror_mode": {
    "name": "ipython",
    "version": 3
   },
   "file_extension": ".py",
   "mimetype": "text/x-python",
   "name": "python",
   "nbconvert_exporter": "python",
   "pygments_lexer": "ipython3",
   "version": "3.7.3"
  }
 },
 "nbformat": 4,
 "nbformat_minor": 2
}
